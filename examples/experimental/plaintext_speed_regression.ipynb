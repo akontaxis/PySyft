{
 "cells": [
  {
   "cell_type": "code",
   "execution_count": 1,
   "metadata": {},
   "outputs": [],
   "source": [
    "cd /home/andrew/side_projects/pysyft-ak/PySyft/"
   ]
  },
  {
   "cell_type": "code",
   "execution_count": 2,
   "metadata": {},
   "outputs": [],
   "source": [
    "import torch as th\n",
    "import syft as sy\n",
    "import copy"
   ]
  },
  {
   "cell_type": "code",
   "execution_count": 3,
   "metadata": {},
   "outputs": [
    {
     "name": "stdout",
     "output_type": "stream",
     "text": [
      "Setting up Sandbox...\n",
      "\t- Hooking PyTorch\n",
      "\t- Creating Virtual Workers:\n",
      "\t\t- bob\n",
      "\t\t- theo\n",
      "\t\t- jason\n",
      "\t\t- alice\n",
      "\t\t- andy\n",
      "\t\t- jon\n",
      "\tStoring hook and workers as global variables...\n",
      "\tLoading datasets from SciKit Learn...\n",
      "\t\t- Boston Housing Dataset\n",
      "\t\t- Diabetes Dataset\n",
      "\t\t- Breast Cancer Dataset\n",
      "\t- Digits Dataset\n",
      "\t\t- Iris Dataset\n",
      "\t\t- Wine Dataset\n",
      "\t\t- Linnerud Dataset\n",
      "\tDistributing Datasets Amongst Workers...\n",
      "\tCollecting workers into a VirtualGrid...\n",
      "Done!\n"
     ]
    }
   ],
   "source": [
    "sy.create_sandbox(globals())"
   ]
  },
  {
   "cell_type": "code",
   "execution_count": 4,
   "metadata": {},
   "outputs": [],
   "source": [
    "def get_boston_target_and_data(worker):\n",
    "    return (\n",
    "        worker.search('#boston', '#data')[0],\n",
    "        worker.search('#boston', '#target')[0]\n",
    "    )\n",
    "\n",
    "workers = [alice, bob, theo]\n",
    "crypto_provider = jon"
   ]
  },
  {
   "cell_type": "markdown",
   "metadata": {},
   "source": [
    "### Just using dictionaries"
   ]
  },
  {
   "cell_type": "code",
   "execution_count": null,
   "metadata": {},
   "outputs": [],
   "source": [
    "XtX_ptrs, Xty_ptrs = {}, {}\n",
    "\n",
    "# - each worker computes XtX, Xty locally and shares the result with others\n",
    "# - each worker maintains a pointer to the shared tensor\n",
    "for worker in workers:\n",
    "    X, y = get_boston_target_and_data(worker)\n",
    "    \n",
    "    XtX_ptr = X.transpose(0, 1).mm(X)\n",
    "    Xty_ptr = X.transpose(0, 1).mm(y.reshape(-1, 1))\n",
    "    \n",
    "    XtX_ptrs[worker.id] = XtX_ptr.share(*workers, crypto_provider=crypto_provider)\n",
    "    Xty_ptrs[worker.id] = Xty_ptr.share(*workers, crypto_provider=crypto_provider)"
   ]
  },
  {
   "cell_type": "code",
   "execution_count": 31,
   "metadata": {},
   "outputs": [],
   "source": [
    "XtX_ptr = sum([ptr.get() for ptr in XtX_ptrs.values()])    \n",
    "Xty_ptr = sum([ptr.get() for ptr in Xty_ptrs.values()])"
   ]
  },
  {
   "cell_type": "code",
   "execution_count": 38,
   "metadata": {},
   "outputs": [
    {
     "data": {
      "text/plain": [
       "MultiPointerTensor>{'alice': (Wrapper)>[PointerTensor | me:15935319576 -> alice:4056201775], 'bob': (Wrapper)>[PointerTensor | me:32604966963 -> bob:15935319576], 'theo': (Wrapper)>[PointerTensor | me:42770908680 -> theo:15935319576]}"
      ]
     },
     "execution_count": 38,
     "metadata": {},
     "output_type": "execute_result"
    }
   ],
   "source": [
    "XtX_ptr.child.reconstruct()"
   ]
  },
  {
   "cell_type": "markdown",
   "metadata": {},
   "source": [
    "### Leveraging multipointer tensors"
   ]
  },
  {
   "cell_type": "code",
   "execution_count": 53,
   "metadata": {},
   "outputs": [],
   "source": [
    "pairs = [get_boston_target_and_data(worker) for worker in workers]\n",
    "X_ptrs = sy.MultiPointerTensor(children=[p[0] for p in pairs])\n",
    "y_ptrs = sy.MultiPointerTensor(children=[p[1] for p in pairs])"
   ]
  },
  {
   "cell_type": "code",
   "execution_count": 54,
   "metadata": {},
   "outputs": [],
   "source": [
    "# the \"big data\" step; each worker uses its local data \n",
    "# to compute its summand to Xt * X and Xt * y\n",
    "Xt_ptrs = X.transpose(0, 1)\n",
    "XtX_ptrs = Xt.mm(X)\n",
    "Xty_ptrs = Xt.mm(y.reshape(-1, 1))"
   ]
  },
  {
   "cell_type": "code",
   "execution_count": 55,
   "metadata": {},
   "outputs": [],
   "source": [
    "# Now need to securely compute the sums Xt * X and Xt * y. \n",
    "# - each worker shares its summand with the others\n",
    "# - one worker (currently, 'me') gets pointers to the shared summands and adds them up\n",
    "XtX_shared_ptrs = []\n",
    "Xty_shared_ptrs = []\n",
    "\n",
    "for worker in workers:\n",
    "    XtX_shared_ptrs.append(\n",
    "        XtX_ptrs.child[worker.id].share(*workers).get()\n",
    "    )\n",
    "    \n",
    "    Xty_shared_ptrs.append(\n",
    "        Xty_ptrs.child[worker.id].share(*workers).get()\n",
    "    )\n",
    "    \n",
    "XtX_ptr = sum(XtX_shared_ptrs)\n",
    "Xty_ptr = sum(Xty_shared_ptrs)"
   ]
  },
  {
   "cell_type": "code",
   "execution_count": 56,
   "metadata": {},
   "outputs": [],
   "source": [
    "# The tough part; need to invert XtX. For now, just pretend that XtX is its own inverse.\n",
    "beta = XtX_ptr.mm(Xty_ptr)\n"
   ]
  },
  {
   "cell_type": "code",
   "execution_count": 57,
   "metadata": {},
   "outputs": [],
   "source": [
    "# reconstruct beta locally on workers\n",
    "reconstructed = beta.child.reconstruct()"
   ]
  },
  {
   "cell_type": "code",
   "execution_count": 64,
   "metadata": {},
   "outputs": [],
   "source": [
    "got = reconstructed.child['alice'].get()"
   ]
  },
  {
   "cell_type": "code",
   "execution_count": 66,
   "metadata": {},
   "outputs": [
    {
     "data": {
      "text/plain": [
       "syft.frameworks.torch.tensors.interpreters.native.Tensor"
      ]
     },
     "execution_count": 66,
     "metadata": {},
     "output_type": "execute_result"
    }
   ],
   "source": [
    "type(got)"
   ]
  },
  {
   "cell_type": "code",
   "execution_count": 42,
   "metadata": {},
   "outputs": [
    {
     "data": {
      "text/plain": [
       "MultiPointerTensor>{'alice': tensor([]), 'bob': tensor([]), 'theo': tensor([])}"
      ]
     },
     "execution_count": 42,
     "metadata": {},
     "output_type": "execute_result"
    }
   ],
   "source": [
    "reconstructed"
   ]
  },
  {
   "cell_type": "code",
   "execution_count": null,
   "metadata": {},
   "outputs": [],
   "source": []
  }
 ],
 "metadata": {
  "kernelspec": {
   "display_name": "Python 3",
   "language": "python",
   "name": "python3"
  },
  "language_info": {
   "codemirror_mode": {
    "name": "ipython",
    "version": 3
   },
   "file_extension": ".py",
   "mimetype": "text/x-python",
   "name": "python",
   "nbconvert_exporter": "python",
   "pygments_lexer": "ipython3",
   "version": "3.6.8"
  }
 },
 "nbformat": 4,
 "nbformat_minor": 2
}
