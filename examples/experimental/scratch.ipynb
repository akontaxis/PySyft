{
 "cells": [
  {
   "cell_type": "code",
   "execution_count": 1,
   "metadata": {},
   "outputs": [
    {
     "data": {
      "text/plain": [
       "'/home/andrew/side_projects/pysyft-ak/PySyft/examples/experimental'"
      ]
     },
     "execution_count": 1,
     "metadata": {},
     "output_type": "execute_result"
    }
   ],
   "source": [
    "pwd"
   ]
  },
  {
   "cell_type": "code",
   "execution_count": 2,
   "metadata": {},
   "outputs": [
    {
     "name": "stdout",
     "output_type": "stream",
     "text": [
      "/home/andrew/side_projects/pysyft-ak/PySyft\n"
     ]
    }
   ],
   "source": [
    "cd ~/side_projects/pysyft-ak/PySyft/"
   ]
  },
  {
   "cell_type": "code",
   "execution_count": 3,
   "metadata": {},
   "outputs": [],
   "source": [
    "import torch as th\n",
    "import syft as sy\n",
    "# sy.create_sandbox(globals())\n",
    "hook = sy.TorchHook(th)"
   ]
  },
  {
   "cell_type": "markdown",
   "metadata": {},
   "source": [
    "## Simplified problem\n",
    "\n",
    "- each worker starts with a number that they hold locally\n",
    "- at the end, each worker has the sum of all numbers"
   ]
  },
  {
   "cell_type": "code",
   "execution_count": 4,
   "metadata": {},
   "outputs": [],
   "source": [
    "a,b,c = th.tensor(1), th.tensor(2), th.tensor(3)"
   ]
  },
  {
   "cell_type": "code",
   "execution_count": 15,
   "metadata": {},
   "outputs": [],
   "source": [
    "alice, bob, carol = (\n",
    "    sy.VirtualWorker(hook, 'alice'),\n",
    "    sy.VirtualWorker(hook, 'bob'),\n",
    "    sy.VirtualWorker(hook, 'carol')\n",
    ")\n",
    "workers = [alice, bob, carol]\n",
    "dan = sy.VirtualWorker(hook, 'dan')\n",
    "\n",
    "# Start with these pointer to tensors that \"live on workers already\"\n",
    "a_ptr = a.send(alice)\n",
    "b_ptr = b.send(bob)\n",
    "c_ptr = c.send(carol)"
   ]
  },
  {
   "cell_type": "code",
   "execution_count": 16,
   "metadata": {},
   "outputs": [],
   "source": [
    "# Workers share their data amongst themselves.\n",
    "# Now each owns shares of each's number, as well as a pointer to the shared data for its number\n",
    "\n",
    "a_ptr_shared = a_ptr.share(*workers, crypto_provider=dan)\n",
    "b_ptr_shared = b_ptr.share(*workers, crypto_provider=dan)\n",
    "c_ptr_shared = c_ptr.share(*workers, crypto_provider=dan)"
   ]
  },
  {
   "cell_type": "code",
   "execution_count": 19,
   "metadata": {},
   "outputs": [
    {
     "name": "stdout",
     "output_type": "stream",
     "text": [
      "(Wrapper)>[PointerTensor | me:40742811351 -> alice:59863524400]\n",
      "None\n"
     ]
    }
   ],
   "source": [
    "print(a_ptr_shared)"
   ]
  },
  {
   "cell_type": "code",
   "execution_count": 8,
   "metadata": {},
   "outputs": [],
   "source": [
    "# Another party (could be one of the workers, I guess) \n",
    "# accumulates pointers to shared tensors\n",
    "a_shared = a_ptr_shared.get()\n",
    "b_shared = b_ptr_shared.get()\n",
    "c_shared = c_ptr_shared.get()"
   ]
  },
  {
   "cell_type": "code",
   "execution_count": 9,
   "metadata": {},
   "outputs": [],
   "source": [
    "# Pointers to shared tensors are added\n",
    "total_shared = a_shared + b_shared + c_shared"
   ]
  },
  {
   "cell_type": "code",
   "execution_count": 10,
   "metadata": {},
   "outputs": [],
   "source": [
    "# result is reconstructed on each worker!\n",
    "reconstructed = total_shared.child.reconstruct()"
   ]
  },
  {
   "cell_type": "markdown",
   "metadata": {},
   "source": [
    "## Same thing, but leveraging multipointer tensors"
   ]
  },
  {
   "cell_type": "code",
   "execution_count": 91,
   "metadata": {},
   "outputs": [],
   "source": [
    "a,b,c = th.tensor([[1.1,1.1]]), th.tensor([[2.2, 2.2]]), th.tensor([[3.3, 3.3]])"
   ]
  },
  {
   "cell_type": "code",
   "execution_count": 92,
   "metadata": {},
   "outputs": [],
   "source": [
    "alice, bob, carol = (\n",
    "    sy.VirtualWorker(hook, 'alice'),\n",
    "    sy.VirtualWorker(hook, 'bob'),\n",
    "    sy.VirtualWorker(hook, 'carol')\n",
    ")\n",
    "workers = [alice, bob, carol]\n",
    "dan = sy.VirtualWorker(hook, 'dan')\n",
    "\n",
    "# Start with these pointer to tensors that \"live on workers already\"\n",
    "a_ptr = a.send(alice)\n",
    "b_ptr = b.send(bob)\n",
    "c_ptr = c.send(carol)"
   ]
  },
  {
   "cell_type": "code",
   "execution_count": 93,
   "metadata": {},
   "outputs": [],
   "source": [
    "m = sy.MultiPointerTensor(children=[a_ptr, b_ptr, c_ptr])"
   ]
  },
  {
   "cell_type": "code",
   "execution_count": 94,
   "metadata": {},
   "outputs": [
    {
     "data": {
      "text/plain": [
       "(Wrapper)>[PointerTensor | me:49713571511 -> alice:85240384378]"
      ]
     },
     "execution_count": 94,
     "metadata": {},
     "output_type": "execute_result"
    }
   ],
   "source": [
    "m.child['alice']"
   ]
  },
  {
   "cell_type": "code",
   "execution_count": 88,
   "metadata": {},
   "outputs": [],
   "source": [
    "ptrs_to_shared = []\n",
    "for worker in workers:\n",
    "    ptrs_to_shared.append(m.child[worker.id].share(*workers, crypto_provider=dan).get())"
   ]
  },
  {
   "cell_type": "code",
   "execution_count": 90,
   "metadata": {},
   "outputs": [
    {
     "data": {
      "text/plain": [
       "tensor([[1, 1]])"
      ]
     },
     "execution_count": 90,
     "metadata": {},
     "output_type": "execute_result"
    }
   ],
   "source": [
    "ptrs_to_shared[0].get()"
   ]
  },
  {
   "cell_type": "code",
   "execution_count": 75,
   "metadata": {},
   "outputs": [],
   "source": [
    "summed = sum(ptrs_to_shared)"
   ]
  },
  {
   "cell_type": "code",
   "execution_count": 76,
   "metadata": {},
   "outputs": [],
   "source": [
    "reconstructed = summed.child.reconstruct()"
   ]
  },
  {
   "cell_type": "code",
   "execution_count": 77,
   "metadata": {},
   "outputs": [
    {
     "data": {
      "text/plain": [
       "tensor([[6, 6]])"
      ]
     },
     "execution_count": 77,
     "metadata": {},
     "output_type": "execute_result"
    }
   ],
   "source": [
    "reconstructed.child['carol'].get()"
   ]
  },
  {
   "cell_type": "code",
   "execution_count": 95,
   "metadata": {},
   "outputs": [],
   "source": [
    "x = th.tensor([1.1])"
   ]
  },
  {
   "cell_type": "code",
   "execution_count": 96,
   "metadata": {},
   "outputs": [
    {
     "data": {
      "text/plain": [
       "(Wrapper)>FixedPrecisionTensor>tensor([1100])"
      ]
     },
     "execution_count": 96,
     "metadata": {},
     "output_type": "execute_result"
    }
   ],
   "source": [
    "x.fix_precision()"
   ]
  },
  {
   "cell_type": "code",
   "execution_count": null,
   "metadata": {},
   "outputs": [],
   "source": []
  }
 ],
 "metadata": {
  "kernelspec": {
   "display_name": "Python 3",
   "language": "python",
   "name": "python3"
  },
  "language_info": {
   "codemirror_mode": {
    "name": "ipython",
    "version": 3
   },
   "file_extension": ".py",
   "mimetype": "text/x-python",
   "name": "python",
   "nbconvert_exporter": "python",
   "pygments_lexer": "ipython3",
   "version": "3.6.8"
  }
 },
 "nbformat": 4,
 "nbformat_minor": 2
}
